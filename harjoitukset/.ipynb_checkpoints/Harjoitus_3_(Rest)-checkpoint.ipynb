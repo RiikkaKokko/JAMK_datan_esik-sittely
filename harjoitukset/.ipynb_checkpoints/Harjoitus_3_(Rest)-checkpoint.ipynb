{
 "cells": [
  {
   "cell_type": "markdown",
   "metadata": {},
   "source": [
    "## Rest-tehtävät"
   ]
  },
  {
   "cell_type": "markdown",
   "metadata": {},
   "source": [
    "Ensimmäisessä tehtäväosiossa rajapintaa pääkaupunkiseudun palveluista. Tämä rajapinta on myös käytössä esimerkeissä.\n",
    "\n",
    "Tietoa palvelusta löytyy: https://www.hel.fi/palvelukarttaws/restpages/palvelurekisteri.html\n",
    "\n",
    "---\n",
    "\n",
    "Toisessa tehtäväosiossa on käytössä Digitrafficin rest-rajapinta, johon on tarkoitus soveltaa osaamista. \n",
    "\n",
    "Tietoa palvelusta löytyy: https://www.digitraffic.fi/rautatieliikenne/#dataa-tukevat-rajapinnat--ty%C3%B6kalut"
   ]
  },
  {
   "cell_type": "markdown",
   "metadata": {},
   "source": [
    "### Pääkaupunkiseudun palveluiden rajapinnan tehtävät"
   ]
  },
  {
   "cell_type": "markdown",
   "metadata": {},
   "source": [
    "Url-osoite rajapinnalle: http://www.hel.fi/palvelukarttaws/rest/vpalvelurekisteri"
   ]
  },
  {
   "cell_type": "markdown",
   "metadata": {},
   "source": [
    "#### Tehtävä 1. Lisää käytettävät kirjastot ja muodosta rajapinnan url-osoite päätteellä `/description/`"
   ]
  },
  {
   "cell_type": "code",
   "execution_count": 234,
   "metadata": {},
   "outputs": [],
   "source": [
    "import requests"
   ]
  },
  {
   "cell_type": "code",
   "execution_count": 235,
   "metadata": {},
   "outputs": [],
   "source": [
    "url=\"http://www.hel.fi/palvelukarttaws/rest/vpalvelurekisteri\"\n",
    "endpoint=\"/description/\""
   ]
  },
  {
   "cell_type": "code",
   "execution_count": 236,
   "metadata": {},
   "outputs": [],
   "source": [
    "new_url=\"{0}{1}\".format(url, endpoint)"
   ]
  },
  {
   "cell_type": "markdown",
   "metadata": {},
   "source": [
    "#### Tehtävä 2. Tee get-pyyntö osoitteeseen ja varmista, että haku onnistuu ja vastauskoodina on 200"
   ]
  },
  {
   "cell_type": "code",
   "execution_count": 237,
   "metadata": {},
   "outputs": [
    {
     "data": {
      "text/plain": [
       "200"
      ]
     },
     "execution_count": 237,
     "metadata": {},
     "output_type": "execute_result"
    }
   ],
   "source": [
    "req = requests.get(new_url)\n",
    "req.status_code"
   ]
  },
  {
   "cell_type": "markdown",
   "metadata": {},
   "source": [
    "#### Tehtävä 3. Tallenna vastaus muuttujaan listana, joiden elementit ovat json-muodossa"
   ]
  },
  {
   "cell_type": "code",
   "execution_count": 238,
   "metadata": {},
   "outputs": [],
   "source": [
    "data_from_api=req.json()\n",
    "#data_from_api"
   ]
  },
  {
   "cell_type": "markdown",
   "metadata": {},
   "source": [
    "#### Tehtävä 4. Valitse list-objektista viimeisin json-tietue, jonka `service_id`-avaimen arvo on 10473 (10473 arvoja on kolme) ja sijoita kyseisen json-tietueen `id`-avaimen arvo muuttujaan."
   ]
  },
  {
   "cell_type": "code",
   "execution_count": 239,
   "metadata": {},
   "outputs": [
    {
     "name": "stdout",
     "output_type": "stream",
     "text": [
      "10473\n",
      "{'id': 4482, 'main_description': True, 'service_id': 10473, 'title': 'Luonnonsuojelualueen perustaminen', 'description_short': 'Luonnonsuojelu perustuu luonnonsuojelulakiin (1996). Sen päätavoite on luonnon monimuotoisuuden ylläpitäminen. Luonnonsuojelun keinoja ovat luonnonsuojelualueiden ja luonnonmuistomerkkien rauhoittaminen sekä luontotyyppien ja eliölajien suojelu.\\n'}\n",
      "10473\n",
      "{'id': 4483, 'main_description': False, 'service_id': 10473, 'title': 'Luontotietojärjestelmä', 'description_short': 'Luontotietojärjestelmässä voi tutustua Helsingin monipuoliseen luontoon. Keskeisimpiä luontoaineistoja ovat luonnonsuojelukohteet ja sadat muut arvokkaat luontokohteet.'}\n",
      "10473\n",
      "{'id': 4892, 'main_description': False, 'service_id': 10473, 'title': 'Itämerihaaste', 'description_short': 'Itämerihaaste on verkostoaloite, joka kutsuu organisaatiot sitoutumaan Itämeren suojeluun, tekemään oman Itämeri-toimenpideohjelmansa ja alkavan toteuttaa sitä.'}\n",
      "{'id': 4892, 'main_description': False, 'service_id': 10473, 'title': 'Itämerihaaste', 'description_short': 'Itämerihaaste on verkostoaloite, joka kutsuu organisaatiot sitoutumaan Itämeren suojeluun, tekemään oman Itämeri-toimenpideohjelmansa ja alkavan toteuttaa sitä.'}\n"
     ]
    }
   ],
   "source": [
    "service_id_list=[]\n",
    "for i in data_from_api:\n",
    "    service_id=i.get(\"service_id\")\n",
    "    if service_id==10473:\n",
    "        service_id_list.append(i)\n",
    "        print(service_id)\n",
    "        print(i)\n",
    "service_id_list\n",
    "print(service_id_list[-1])"
   ]
  },
  {
   "cell_type": "code",
   "execution_count": 240,
   "metadata": {},
   "outputs": [
    {
     "name": "stdout",
     "output_type": "stream",
     "text": [
      "{'id': 4892, 'main_description': False, 'service_id': 10473, 'title': 'Itämerihaaste', 'description_short': 'Itämerihaaste on verkostoaloite, joka kutsuu organisaatiot sitoutumaan Itämeren suojeluun, tekemään oman Itämeri-toimenpideohjelmansa ja alkavan toteuttaa sitä.'}\n",
      "<class 'dict'>\n"
     ]
    }
   ],
   "source": [
    "viimeinen_arvo=service_id_list[-1]\n",
    "print(viimeinen_arvo)\n",
    "print(type(viimeinen_arvo))"
   ]
  },
  {
   "cell_type": "code",
   "execution_count": 241,
   "metadata": {},
   "outputs": [
    {
     "name": "stdout",
     "output_type": "stream",
     "text": [
      "4892\n"
     ]
    }
   ],
   "source": [
    "id_avain=viimeinen_arvo[\"id\"]\n",
    "print(id_avain)"
   ]
  },
  {
   "cell_type": "markdown",
   "metadata": {},
   "source": [
    "#### Tehtävä 5. Tee uusi get-pyyntö samaan osoitteeseen kuin aiemmin (myös päätepiste pysyy samana), mutta ota edellisessä kohdassa valittu muuttuja (muuttuja joka sisältää `id`:n arvon) huomioon pyynnössä"
   ]
  },
  {
   "cell_type": "code",
   "execution_count": 242,
   "metadata": {},
   "outputs": [],
   "source": [
    "url=\"http://www.hel.fi/palvelukarttaws/rest/vpalvelurekisteri\"\n",
    "endpoint=\"/description/\"\n",
    "#params={\"id\":id_avain}"
   ]
  },
  {
   "cell_type": "code",
   "execution_count": 243,
   "metadata": {},
   "outputs": [],
   "source": [
    "new_url=\"{0}{1}\".format(url, endpoint)"
   ]
  },
  {
   "cell_type": "code",
   "execution_count": 245,
   "metadata": {},
   "outputs": [
    {
     "data": {
      "text/plain": [
       "200"
      ]
     },
     "execution_count": 245,
     "metadata": {},
     "output_type": "execute_result"
    }
   ],
   "source": [
    "req1 = requests.get(new_url + str(id_avain))\n",
    "req1.status_code"
   ]
  },
  {
   "cell_type": "code",
   "execution_count": 246,
   "metadata": {},
   "outputs": [
    {
     "data": {
      "text/plain": [
       "'http://www.hel.fi/palvelukarttaws/rest/vpalvelurekisteri/description/4892'"
      ]
     },
     "execution_count": 246,
     "metadata": {},
     "output_type": "execute_result"
    }
   ],
   "source": [
    "req1.url"
   ]
  },
  {
   "cell_type": "code",
   "execution_count": 247,
   "metadata": {},
   "outputs": [
    {
     "data": {
      "text/plain": [
       "{'id': 4892,\n",
       " 'main_description': False,\n",
       " 'service_id': 10473,\n",
       " 'title': 'Itämerihaaste',\n",
       " 'name_synonyms': 'Itämeren suojelu',\n",
       " 'description_short': 'Itämerihaaste on verkostoaloite, joka kutsuu organisaatiot sitoutumaan Itämeren suojeluun, tekemään oman Itämeri-toimenpideohjelmansa ja alkavan toteuttaa sitä.',\n",
       " 'description_long': 'Itämerihaaste on ilmainen palvelu kaikille organisaatioille, jotka haluavat tehdä vesiensuojelutyötä. \\n\\nItämerihaasteessa on mukana yli 300 kumppania: kaupunkeja, yrityksiä, oppilaitoksia, kansalais- ja etujärjestöjä, alueellisia viranomaisia sekä kansallisia tutkimuslaitoksia Suomesta ja muista Itämeren maista. \\n\\nHelsingin kaupunki tarjoaa yhdessä Turun kaupungin kanssa Itämerihaasteeseen sitoutuville organisaatioille: \\n\\n- Tukea ja vinkkejä omien vesiensuojelutoimien suunnitteluun\\n- Verkostoitumista ja näkyvyyttä\\n- Alueellisia, valtakunnallisia ja kansainvälisiä tapahtumia\\n- Hyvien käytäntöjen jakoa, esimerkiksi Toimenpidepankki\\n- Viestintämateriaaleja, esimerkiksi Kuulumisia-kirje ja Newsletter\\n- Kokemusten vaihtoa ja uusien käytäntöjen oppimista \\n- Yhteyksien luomista erilaisten organisaatiokulttuurien ja toimintamallien välille: yksityiset ja julkiset, pienet ja suuret, paikalliset ja valtakunnalliset\\n- Mahdollisuuksia yhteisten erillishankkeiden toteuttamiseen\\n',\n",
       " 'provided_languages': ['en', 'fi', 'sv'],\n",
       " 'responsible_depts': ['85080572-9a95-4a18-be6b-5bc306eb3d85'],\n",
       " 'target_groups': [],\n",
       " 'life_events': [],\n",
       " 'errand_services': [],\n",
       " 'exact_errand_services': [],\n",
       " 'links': [{'type': 'INTERNET',\n",
       "   'title': 'Itämerihaasteen verkkosivut',\n",
       "   'url': 'http://www.itamerihaaste.net'}],\n",
       " 'availabilities': [],\n",
       " 'unit_ids': [8234, 53155]}"
      ]
     },
     "execution_count": 247,
     "metadata": {},
     "output_type": "execute_result"
    }
   ],
   "source": [
    "req1.json()"
   ]
  },
  {
   "cell_type": "markdown",
   "metadata": {},
   "source": [
    "#### Tehtävä 6. Tulosta vastauksesta `title`-avaimen arvo"
   ]
  },
  {
   "cell_type": "code",
   "execution_count": 250,
   "metadata": {},
   "outputs": [
    {
     "name": "stdout",
     "output_type": "stream",
     "text": [
      "Itämerihaaste\n"
     ]
    }
   ],
   "source": [
    "json=req1.json()\n",
    "print(json[\"title\"])"
   ]
  },
  {
   "cell_type": "markdown",
   "metadata": {},
   "source": [
    "---"
   ]
  },
  {
   "cell_type": "markdown",
   "metadata": {},
   "source": [
    "### Digitrafficin rajapinnan tehtävät"
   ]
  },
  {
   "cell_type": "markdown",
   "metadata": {},
   "source": [
    "#### Tehtävä 7. Hae Digitrafficin rajapinnasta palvelun ohjeiden mukaan tiedot junalle päivältä 06.06.2018, jonka numero on 1"
   ]
  },
  {
   "cell_type": "code",
   "execution_count": 284,
   "metadata": {},
   "outputs": [],
   "source": [
    "url=\"https://rata.digitraffic.fi/api/v1/trains/2018-06-06/1\""
   ]
  },
  {
   "cell_type": "code",
   "execution_count": 285,
   "metadata": {},
   "outputs": [],
   "source": [
    "req2 = requests.get(url)"
   ]
  },
  {
   "cell_type": "code",
   "execution_count": 286,
   "metadata": {},
   "outputs": [
    {
     "data": {
      "text/plain": [
       "200"
      ]
     },
     "execution_count": 286,
     "metadata": {},
     "output_type": "execute_result"
    }
   ],
   "source": [
    "req2.status_code"
   ]
  },
  {
   "cell_type": "code",
   "execution_count": 287,
   "metadata": {},
   "outputs": [],
   "source": [
    "json_file=req2.json()"
   ]
  },
  {
   "cell_type": "code",
   "execution_count": 288,
   "metadata": {},
   "outputs": [],
   "source": [
    "#json_file"
   ]
  },
  {
   "cell_type": "markdown",
   "metadata": {},
   "source": [
    "#### Tehtävä 8. Muodosta edellisen tehtävän get-pyynnön tuloksesta DataFrame (koko Junan 1 päivän 06.06.2018 datasta), jos yksikin `scheduledTime`-avaimen arvo on ennen aikaleimaa '2018-06-06T06:00:00.000Z'."
   ]
  },
  {
   "cell_type": "code",
   "execution_count": 289,
   "metadata": {},
   "outputs": [],
   "source": [
    "import json\n",
    "import pandas as pd"
   ]
  },
  {
   "cell_type": "code",
   "execution_count": 291,
   "metadata": {},
   "outputs": [
    {
     "data": {
      "text/html": [
       "<div>\n",
       "<style scoped>\n",
       "    .dataframe tbody tr th:only-of-type {\n",
       "        vertical-align: middle;\n",
       "    }\n",
       "\n",
       "    .dataframe tbody tr th {\n",
       "        vertical-align: top;\n",
       "    }\n",
       "\n",
       "    .dataframe thead th {\n",
       "        text-align: right;\n",
       "    }\n",
       "</style>\n",
       "<table border=\"1\" class=\"dataframe\">\n",
       "  <thead>\n",
       "    <tr style=\"text-align: right;\">\n",
       "      <th></th>\n",
       "      <th>trainNumber</th>\n",
       "      <th>departureDate</th>\n",
       "      <th>operatorUICCode</th>\n",
       "      <th>operatorShortCode</th>\n",
       "      <th>trainType</th>\n",
       "      <th>trainCategory</th>\n",
       "      <th>commuterLineID</th>\n",
       "      <th>runningCurrently</th>\n",
       "      <th>cancelled</th>\n",
       "      <th>version</th>\n",
       "      <th>timetableType</th>\n",
       "      <th>timetableAcceptanceDate</th>\n",
       "      <th>timeTableRows</th>\n",
       "    </tr>\n",
       "  </thead>\n",
       "  <tbody>\n",
       "    <tr>\n",
       "      <th>0</th>\n",
       "      <td>1</td>\n",
       "      <td>2018-06-06</td>\n",
       "      <td>10</td>\n",
       "      <td>vr</td>\n",
       "      <td>IC</td>\n",
       "      <td>Long-distance</td>\n",
       "      <td></td>\n",
       "      <td>False</td>\n",
       "      <td>False</td>\n",
       "      <td>270528660210</td>\n",
       "      <td>REGULAR</td>\n",
       "      <td>2018-03-05T10:02:10.000Z</td>\n",
       "      <td>[{'stationShortCode': 'HKI', 'stationUICCode':...</td>\n",
       "    </tr>\n",
       "  </tbody>\n",
       "</table>\n",
       "</div>"
      ],
      "text/plain": [
       "   trainNumber departureDate  operatorUICCode operatorShortCode trainType  \\\n",
       "0            1    2018-06-06               10                vr        IC   \n",
       "\n",
       "   trainCategory commuterLineID  runningCurrently  cancelled       version  \\\n",
       "0  Long-distance                            False      False  270528660210   \n",
       "\n",
       "  timetableType   timetableAcceptanceDate  \\\n",
       "0       REGULAR  2018-03-05T10:02:10.000Z   \n",
       "\n",
       "                                       timeTableRows  \n",
       "0  [{'stationShortCode': 'HKI', 'stationUICCode':...  "
      ]
     },
     "execution_count": 291,
     "metadata": {},
     "output_type": "execute_result"
    }
   ],
   "source": [
    "df=pd.read_json(json.dumps(json_file))\n",
    "df.head()"
   ]
  },
  {
   "cell_type": "markdown",
   "metadata": {},
   "source": [
    "#### Tehtävä 9. Tulosta ainoa rivi generoidusta DataFrame-objektista, jos sellainen muodostetaan."
   ]
  },
  {
   "cell_type": "code",
   "execution_count": 292,
   "metadata": {},
   "outputs": [
    {
     "data": {
      "text/html": [
       "<div>\n",
       "<style scoped>\n",
       "    .dataframe tbody tr th:only-of-type {\n",
       "        vertical-align: middle;\n",
       "    }\n",
       "\n",
       "    .dataframe tbody tr th {\n",
       "        vertical-align: top;\n",
       "    }\n",
       "\n",
       "    .dataframe thead th {\n",
       "        text-align: right;\n",
       "    }\n",
       "</style>\n",
       "<table border=\"1\" class=\"dataframe\">\n",
       "  <thead>\n",
       "    <tr style=\"text-align: right;\">\n",
       "      <th></th>\n",
       "      <th>trainNumber</th>\n",
       "      <th>departureDate</th>\n",
       "      <th>operatorUICCode</th>\n",
       "      <th>operatorShortCode</th>\n",
       "      <th>trainType</th>\n",
       "      <th>trainCategory</th>\n",
       "      <th>commuterLineID</th>\n",
       "      <th>runningCurrently</th>\n",
       "      <th>cancelled</th>\n",
       "      <th>version</th>\n",
       "      <th>timetableType</th>\n",
       "      <th>timetableAcceptanceDate</th>\n",
       "      <th>timeTableRows</th>\n",
       "    </tr>\n",
       "  </thead>\n",
       "  <tbody>\n",
       "    <tr>\n",
       "      <th>0</th>\n",
       "      <td>1</td>\n",
       "      <td>2018-06-06</td>\n",
       "      <td>10</td>\n",
       "      <td>vr</td>\n",
       "      <td>IC</td>\n",
       "      <td>Long-distance</td>\n",
       "      <td></td>\n",
       "      <td>False</td>\n",
       "      <td>False</td>\n",
       "      <td>270528660210</td>\n",
       "      <td>REGULAR</td>\n",
       "      <td>2018-03-05T10:02:10.000Z</td>\n",
       "      <td>[{'stationShortCode': 'HKI', 'stationUICCode':...</td>\n",
       "    </tr>\n",
       "  </tbody>\n",
       "</table>\n",
       "</div>"
      ],
      "text/plain": [
       "   trainNumber departureDate  operatorUICCode operatorShortCode trainType  \\\n",
       "0            1    2018-06-06               10                vr        IC   \n",
       "\n",
       "   trainCategory commuterLineID  runningCurrently  cancelled       version  \\\n",
       "0  Long-distance                            False      False  270528660210   \n",
       "\n",
       "  timetableType   timetableAcceptanceDate  \\\n",
       "0       REGULAR  2018-03-05T10:02:10.000Z   \n",
       "\n",
       "                                       timeTableRows  \n",
       "0  [{'stationShortCode': 'HKI', 'stationUICCode':...  "
      ]
     },
     "execution_count": 292,
     "metadata": {},
     "output_type": "execute_result"
    }
   ],
   "source": [
    "df.head()"
   ]
  },
  {
   "cell_type": "code",
   "execution_count": null,
   "metadata": {},
   "outputs": [],
   "source": []
  }
 ],
 "metadata": {
  "kernelspec": {
   "display_name": "Python 3",
   "language": "python",
   "name": "python3"
  },
  "language_info": {
   "codemirror_mode": {
    "name": "ipython",
    "version": 3
   },
   "file_extension": ".py",
   "mimetype": "text/x-python",
   "name": "python",
   "nbconvert_exporter": "python",
   "pygments_lexer": "ipython3",
   "version": "3.7.3"
  }
 },
 "nbformat": 4,
 "nbformat_minor": 4
}
